{
 "cells": [
  {
   "cell_type": "markdown",
   "id": "cf3c84c0",
   "metadata": {},
   "source": [
    "# Import Libraries"
   ]
  },
  {
   "cell_type": "code",
   "execution_count": 3,
   "id": "a44859b3",
   "metadata": {
    "ExecuteTime": {
     "end_time": "2022-11-05T06:42:22.051242Z",
     "start_time": "2022-11-05T06:42:22.039733Z"
    }
   },
   "outputs": [],
   "source": [
    "import pandas as pd\n",
    "import matplotlib.pyplot as plt\n",
    "import seaborn as sns\n",
    "import numpy as np\n",
    "\n",
    "# Matplolib default parameters\n",
    "from matplotlib import rcParams\n",
    "plt.style.use('default')\n",
    "plt.rcParams['axes.prop_cycle'] = plt.rcParamsDefault['axes.prop_cycle']\n",
    "\n",
    "# import warning\n",
    "import warnings\n",
    "warnings.filterwarnings('ignore')\n",
    "\n",
    "# Set option max columns display\n",
    "pd.set_option('max_columns', 150)\n",
    "pd.set_option('max_colwidth', 150)\n",
    "pd.set_option('max_rows', 100)"
   ]
  },
  {
   "cell_type": "markdown",
   "id": "2b416e06",
   "metadata": {},
   "source": [
    "# Dataset Overview"
   ]
  },
  {
   "cell_type": "code",
   "execution_count": 4,
   "id": "b2dca683",
   "metadata": {
    "ExecuteTime": {
     "end_time": "2022-11-05T06:42:22.987195Z",
     "start_time": "2022-11-05T06:42:22.058266Z"
    }
   },
   "outputs": [
    {
     "data": {
      "text/html": [
       "<div>\n",
       "<style scoped>\n",
       "    .dataframe tbody tr th:only-of-type {\n",
       "        vertical-align: middle;\n",
       "    }\n",
       "\n",
       "    .dataframe tbody tr th {\n",
       "        vertical-align: top;\n",
       "    }\n",
       "\n",
       "    .dataframe thead th {\n",
       "        text-align: right;\n",
       "    }\n",
       "</style>\n",
       "<table border=\"1\" class=\"dataframe\">\n",
       "  <thead>\n",
       "    <tr style=\"text-align: right;\">\n",
       "      <th></th>\n",
       "      <th>Invoice</th>\n",
       "      <th>StockCode</th>\n",
       "      <th>Description</th>\n",
       "      <th>Quantity</th>\n",
       "      <th>InvoiceDate</th>\n",
       "      <th>Price</th>\n",
       "      <th>Customer ID</th>\n",
       "      <th>Country</th>\n",
       "    </tr>\n",
       "  </thead>\n",
       "  <tbody>\n",
       "    <tr>\n",
       "      <th>33036</th>\n",
       "      <td>539217</td>\n",
       "      <td>22697</td>\n",
       "      <td>GREEN REGENCY TEACUP AND SAUCER</td>\n",
       "      <td>6</td>\n",
       "      <td>12/16/2010 12:46</td>\n",
       "      <td>2.95</td>\n",
       "      <td>15394.0</td>\n",
       "      <td>United Kingdom</td>\n",
       "    </tr>\n",
       "    <tr>\n",
       "      <th>9716</th>\n",
       "      <td>537212</td>\n",
       "      <td>22197</td>\n",
       "      <td>SMALL POPCORN HOLDER</td>\n",
       "      <td>24</td>\n",
       "      <td>12/5/2010 15:21</td>\n",
       "      <td>0.85</td>\n",
       "      <td>12720.0</td>\n",
       "      <td>Germany</td>\n",
       "    </tr>\n",
       "    <tr>\n",
       "      <th>347163</th>\n",
       "      <td>567290</td>\n",
       "      <td>22667</td>\n",
       "      <td>RECIPE BOX RETROSPOT</td>\n",
       "      <td>24</td>\n",
       "      <td>9/19/2011 11:54</td>\n",
       "      <td>2.55</td>\n",
       "      <td>14646.0</td>\n",
       "      <td>Netherlands</td>\n",
       "    </tr>\n",
       "    <tr>\n",
       "      <th>264234</th>\n",
       "      <td>560090</td>\n",
       "      <td>21725</td>\n",
       "      <td>SWEETIES  STICKERS</td>\n",
       "      <td>1</td>\n",
       "      <td>7/14/2011 16:46</td>\n",
       "      <td>1.63</td>\n",
       "      <td>NaN</td>\n",
       "      <td>United Kingdom</td>\n",
       "    </tr>\n",
       "    <tr>\n",
       "      <th>141515</th>\n",
       "      <td>548516</td>\n",
       "      <td>21773</td>\n",
       "      <td>DECORATIVE ROSE BATHROOM BOTTLE</td>\n",
       "      <td>1</td>\n",
       "      <td>3/31/2011 16:28</td>\n",
       "      <td>2.46</td>\n",
       "      <td>NaN</td>\n",
       "      <td>United Kingdom</td>\n",
       "    </tr>\n",
       "  </tbody>\n",
       "</table>\n",
       "</div>"
      ],
      "text/plain": [
       "       Invoice StockCode                      Description  Quantity  \\\n",
       "33036   539217     22697  GREEN REGENCY TEACUP AND SAUCER         6   \n",
       "9716    537212     22197             SMALL POPCORN HOLDER        24   \n",
       "347163  567290     22667            RECIPE BOX RETROSPOT         24   \n",
       "264234  560090     21725               SWEETIES  STICKERS         1   \n",
       "141515  548516     21773  DECORATIVE ROSE BATHROOM BOTTLE         1   \n",
       "\n",
       "             InvoiceDate  Price  Customer ID         Country  \n",
       "33036   12/16/2010 12:46   2.95      15394.0  United Kingdom  \n",
       "9716     12/5/2010 15:21   0.85      12720.0         Germany  \n",
       "347163   9/19/2011 11:54   2.55      14646.0     Netherlands  \n",
       "264234   7/14/2011 16:46   1.63          NaN  United Kingdom  \n",
       "141515   3/31/2011 16:28   2.46          NaN  United Kingdom  "
      ]
     },
     "execution_count": 4,
     "metadata": {},
     "output_type": "execute_result"
    }
   ],
   "source": [
    "data = pd.read_csv('Year_2010-2011.csv', encoding='cp1252')\n",
    "data.sample(5, random_state=364)"
   ]
  },
  {
   "cell_type": "code",
   "execution_count": 5,
   "id": "52feb3aa",
   "metadata": {
    "ExecuteTime": {
     "end_time": "2022-11-05T06:42:22.997597Z",
     "start_time": "2022-11-05T06:42:22.990523Z"
    }
   },
   "outputs": [
    {
     "name": "stdout",
     "output_type": "stream",
     "text": [
      "Dataset consist of 541910 Rows and 8 Columns\n"
     ]
    }
   ],
   "source": [
    "print(f'Dataset consist of {data.shape[0]} Rows and {data.shape[1]} Columns')"
   ]
  },
  {
   "cell_type": "code",
   "execution_count": 6,
   "id": "8238ed00",
   "metadata": {
    "ExecuteTime": {
     "end_time": "2022-11-05T06:42:23.796653Z",
     "start_time": "2022-11-05T06:42:23.003820Z"
    }
   },
   "outputs": [
    {
     "data": {
      "text/html": [
       "<div>\n",
       "<style scoped>\n",
       "    .dataframe tbody tr th:only-of-type {\n",
       "        vertical-align: middle;\n",
       "    }\n",
       "\n",
       "    .dataframe tbody tr th {\n",
       "        vertical-align: top;\n",
       "    }\n",
       "\n",
       "    .dataframe thead th {\n",
       "        text-align: right;\n",
       "    }\n",
       "</style>\n",
       "<table border=\"1\" class=\"dataframe\">\n",
       "  <thead>\n",
       "    <tr style=\"text-align: right;\">\n",
       "      <th></th>\n",
       "      <th>feature</th>\n",
       "      <th>data_type</th>\n",
       "      <th>null_num</th>\n",
       "      <th>null_pct</th>\n",
       "      <th>unique_num</th>\n",
       "      <th>unique_sample</th>\n",
       "    </tr>\n",
       "  </thead>\n",
       "  <tbody>\n",
       "    <tr>\n",
       "      <th>0</th>\n",
       "      <td>Invoice</td>\n",
       "      <td>object</td>\n",
       "      <td>0</td>\n",
       "      <td>0.000000</td>\n",
       "      <td>25900</td>\n",
       "      <td>[536365, 536366, 536368, 536367]</td>\n",
       "    </tr>\n",
       "    <tr>\n",
       "      <th>1</th>\n",
       "      <td>StockCode</td>\n",
       "      <td>object</td>\n",
       "      <td>0</td>\n",
       "      <td>0.000000</td>\n",
       "      <td>4070</td>\n",
       "      <td>[85123A, 71053, 84406B, 84029G]</td>\n",
       "    </tr>\n",
       "    <tr>\n",
       "      <th>2</th>\n",
       "      <td>Description</td>\n",
       "      <td>object</td>\n",
       "      <td>1454</td>\n",
       "      <td>0.268310</td>\n",
       "      <td>4223</td>\n",
       "      <td>[WHITE HANGING HEART T-LIGHT HOLDER, WHITE METAL LANTERN, CREAM CUPID HEARTS COAT HANGER, KNITTED UNION FLAG HOT WATER BOTTLE]</td>\n",
       "    </tr>\n",
       "    <tr>\n",
       "      <th>3</th>\n",
       "      <td>Quantity</td>\n",
       "      <td>int64</td>\n",
       "      <td>0</td>\n",
       "      <td>0.000000</td>\n",
       "      <td>722</td>\n",
       "      <td>[6, 8, 2, 3]</td>\n",
       "    </tr>\n",
       "    <tr>\n",
       "      <th>4</th>\n",
       "      <td>InvoiceDate</td>\n",
       "      <td>object</td>\n",
       "      <td>0</td>\n",
       "      <td>0.000000</td>\n",
       "      <td>23260</td>\n",
       "      <td>[12/1/2010 8:26, 12/1/2010 8:28, 12/1/2010 8:34, 12/1/2010 8:35]</td>\n",
       "    </tr>\n",
       "    <tr>\n",
       "      <th>5</th>\n",
       "      <td>Price</td>\n",
       "      <td>float64</td>\n",
       "      <td>0</td>\n",
       "      <td>0.000000</td>\n",
       "      <td>1630</td>\n",
       "      <td>[2.55, 3.39, 2.75, 7.65]</td>\n",
       "    </tr>\n",
       "    <tr>\n",
       "      <th>6</th>\n",
       "      <td>Customer ID</td>\n",
       "      <td>float64</td>\n",
       "      <td>135080</td>\n",
       "      <td>24.926648</td>\n",
       "      <td>4372</td>\n",
       "      <td>[17850.0, 13047.0, 12583.0, 13748.0]</td>\n",
       "    </tr>\n",
       "    <tr>\n",
       "      <th>7</th>\n",
       "      <td>Country</td>\n",
       "      <td>object</td>\n",
       "      <td>0</td>\n",
       "      <td>0.000000</td>\n",
       "      <td>38</td>\n",
       "      <td>[United Kingdom, France, Australia, Netherlands]</td>\n",
       "    </tr>\n",
       "  </tbody>\n",
       "</table>\n",
       "</div>"
      ],
      "text/plain": [
       "       feature data_type  null_num   null_pct  unique_num  \\\n",
       "0      Invoice    object         0   0.000000       25900   \n",
       "1    StockCode    object         0   0.000000        4070   \n",
       "2  Description    object      1454   0.268310        4223   \n",
       "3     Quantity     int64         0   0.000000         722   \n",
       "4  InvoiceDate    object         0   0.000000       23260   \n",
       "5        Price   float64         0   0.000000        1630   \n",
       "6  Customer ID   float64    135080  24.926648        4372   \n",
       "7      Country    object         0   0.000000          38   \n",
       "\n",
       "                                                                                                                    unique_sample  \n",
       "0                                                                                                [536365, 536366, 536368, 536367]  \n",
       "1                                                                                                 [85123A, 71053, 84406B, 84029G]  \n",
       "2  [WHITE HANGING HEART T-LIGHT HOLDER, WHITE METAL LANTERN, CREAM CUPID HEARTS COAT HANGER, KNITTED UNION FLAG HOT WATER BOTTLE]  \n",
       "3                                                                                                                    [6, 8, 2, 3]  \n",
       "4                                                                [12/1/2010 8:26, 12/1/2010 8:28, 12/1/2010 8:34, 12/1/2010 8:35]  \n",
       "5                                                                                                        [2.55, 3.39, 2.75, 7.65]  \n",
       "6                                                                                            [17850.0, 13047.0, 12583.0, 13748.0]  \n",
       "7                                                                                [United Kingdom, France, Australia, Netherlands]  "
      ]
     },
     "execution_count": 6,
     "metadata": {},
     "output_type": "execute_result"
    }
   ],
   "source": [
    "# Create Data Info\n",
    "list_item = []\n",
    "for col in data.columns:\n",
    "    list_item.append([col, data[col].dtype, data[col].isna().sum(), 100*data[col].isna().sum()/len(data[col]), data[col].nunique(), data[col].unique()[:4]])\n",
    "desc_df = pd.DataFrame(data=list_item, columns='feature data_type null_num null_pct unique_num unique_sample'.split())\n",
    "desc_df"
   ]
  },
  {
   "cell_type": "code",
   "execution_count": 7,
   "id": "765450ac",
   "metadata": {
    "ExecuteTime": {
     "end_time": "2022-11-05T06:42:23.964285Z",
     "start_time": "2022-11-05T06:42:23.800269Z"
    }
   },
   "outputs": [
    {
     "name": "stdout",
     "output_type": "stream",
     "text": [
      "<class 'pandas.core.frame.DataFrame'>\n",
      "RangeIndex: 541910 entries, 0 to 541909\n",
      "Data columns (total 8 columns):\n",
      " #   Column       Non-Null Count   Dtype  \n",
      "---  ------       --------------   -----  \n",
      " 0   Invoice      541910 non-null  object \n",
      " 1   StockCode    541910 non-null  object \n",
      " 2   Description  540456 non-null  object \n",
      " 3   Quantity     541910 non-null  int64  \n",
      " 4   InvoiceDate  541910 non-null  object \n",
      " 5   Price        541910 non-null  float64\n",
      " 6   Customer ID  406830 non-null  float64\n",
      " 7   Country      541910 non-null  object \n",
      "dtypes: float64(2), int64(1), object(5)\n",
      "memory usage: 33.1+ MB\n"
     ]
    }
   ],
   "source": [
    "data.info()"
   ]
  },
  {
   "cell_type": "markdown",
   "id": "c8f251dc",
   "metadata": {},
   "source": [
    "# Feature Engineering"
   ]
  },
  {
   "cell_type": "code",
   "execution_count": 8,
   "id": "9f080651",
   "metadata": {
    "ExecuteTime": {
     "end_time": "2022-11-05T06:42:26.890045Z",
     "start_time": "2022-11-05T06:42:23.967810Z"
    }
   },
   "outputs": [],
   "source": [
    "#change data type\n",
    "data['InvoiceDate'] = pd.to_datetime(data['InvoiceDate'])\n",
    "\n",
    "# create new features\n",
    "data['Dayofmonth'] = data['InvoiceDate'].dt.day\n",
    "data['Day_name'] = data['InvoiceDate'].dt.day_name()\n",
    "data['Month'] = data['InvoiceDate'].dt.month\n",
    "data['Year'] = data['InvoiceDate'].dt.year\n",
    "data['Hour'] = data['InvoiceDate'].dt.hour"
   ]
  },
  {
   "cell_type": "code",
   "execution_count": 9,
   "id": "a1b5fa16",
   "metadata": {
    "ExecuteTime": {
     "end_time": "2022-11-05T06:42:26.926831Z",
     "start_time": "2022-11-05T06:42:26.892723Z"
    }
   },
   "outputs": [],
   "source": [
    "# create sales feature\n",
    "data['Sales'] = data['Price']*data['Quantity']"
   ]
  },
  {
   "cell_type": "markdown",
   "id": "bc79dd55",
   "metadata": {},
   "source": [
    "# RFM Segmentation"
   ]
  },
  {
   "cell_type": "markdown",
   "id": "c622e2bf",
   "metadata": {
    "ExecuteTime": {
     "end_time": "2022-11-05T03:40:40.872392Z",
     "start_time": "2022-11-05T03:40:40.862430Z"
    }
   },
   "source": [
    "## Get Data"
   ]
  },
  {
   "cell_type": "code",
   "execution_count": 10,
   "id": "274b01a7",
   "metadata": {
    "ExecuteTime": {
     "end_time": "2022-11-05T06:42:27.064524Z",
     "start_time": "2022-11-05T06:42:26.931325Z"
    }
   },
   "outputs": [
    {
     "data": {
      "text/html": [
       "<div>\n",
       "<style scoped>\n",
       "    .dataframe tbody tr th:only-of-type {\n",
       "        vertical-align: middle;\n",
       "    }\n",
       "\n",
       "    .dataframe tbody tr th {\n",
       "        vertical-align: top;\n",
       "    }\n",
       "\n",
       "    .dataframe thead th {\n",
       "        text-align: right;\n",
       "    }\n",
       "</style>\n",
       "<table border=\"1\" class=\"dataframe\">\n",
       "  <thead>\n",
       "    <tr style=\"text-align: right;\">\n",
       "      <th></th>\n",
       "      <th>Customer ID</th>\n",
       "      <th>InvoiceDate</th>\n",
       "      <th>Sales</th>\n",
       "    </tr>\n",
       "  </thead>\n",
       "  <tbody>\n",
       "    <tr>\n",
       "      <th>0</th>\n",
       "      <td>17850.0</td>\n",
       "      <td>2010-12-01 08:26:00</td>\n",
       "      <td>15.30</td>\n",
       "    </tr>\n",
       "    <tr>\n",
       "      <th>1</th>\n",
       "      <td>17850.0</td>\n",
       "      <td>2010-12-01 08:26:00</td>\n",
       "      <td>20.34</td>\n",
       "    </tr>\n",
       "    <tr>\n",
       "      <th>2</th>\n",
       "      <td>17850.0</td>\n",
       "      <td>2010-12-01 08:26:00</td>\n",
       "      <td>22.00</td>\n",
       "    </tr>\n",
       "    <tr>\n",
       "      <th>3</th>\n",
       "      <td>17850.0</td>\n",
       "      <td>2010-12-01 08:26:00</td>\n",
       "      <td>20.34</td>\n",
       "    </tr>\n",
       "    <tr>\n",
       "      <th>4</th>\n",
       "      <td>17850.0</td>\n",
       "      <td>2010-12-01 08:26:00</td>\n",
       "      <td>20.34</td>\n",
       "    </tr>\n",
       "  </tbody>\n",
       "</table>\n",
       "</div>"
      ],
      "text/plain": [
       "   Customer ID         InvoiceDate  Sales\n",
       "0      17850.0 2010-12-01 08:26:00  15.30\n",
       "1      17850.0 2010-12-01 08:26:00  20.34\n",
       "2      17850.0 2010-12-01 08:26:00  22.00\n",
       "3      17850.0 2010-12-01 08:26:00  20.34\n",
       "4      17850.0 2010-12-01 08:26:00  20.34"
      ]
     },
     "execution_count": 10,
     "metadata": {},
     "output_type": "execute_result"
    }
   ],
   "source": [
    "rfm_cols = ['Customer ID', 'InvoiceDate', 'Sales']\n",
    "rfm_data = data[rfm_cols]\n",
    "rfm_data.head()"
   ]
  },
  {
   "cell_type": "code",
   "execution_count": 11,
   "id": "36646912",
   "metadata": {
    "ExecuteTime": {
     "end_time": "2022-11-05T06:42:27.750499Z",
     "start_time": "2022-11-05T06:42:27.068633Z"
    }
   },
   "outputs": [
    {
     "data": {
      "text/html": [
       "<div>\n",
       "<style scoped>\n",
       "    .dataframe tbody tr th:only-of-type {\n",
       "        vertical-align: middle;\n",
       "    }\n",
       "\n",
       "    .dataframe tbody tr th {\n",
       "        vertical-align: top;\n",
       "    }\n",
       "\n",
       "    .dataframe thead th {\n",
       "        text-align: right;\n",
       "    }\n",
       "</style>\n",
       "<table border=\"1\" class=\"dataframe\">\n",
       "  <thead>\n",
       "    <tr style=\"text-align: right;\">\n",
       "      <th></th>\n",
       "      <th>Customer ID</th>\n",
       "      <th>frequency</th>\n",
       "      <th>recency</th>\n",
       "      <th>T</th>\n",
       "      <th>monetary_value</th>\n",
       "    </tr>\n",
       "  </thead>\n",
       "  <tbody>\n",
       "    <tr>\n",
       "      <th>0</th>\n",
       "      <td>12346.0</td>\n",
       "      <td>0.0</td>\n",
       "      <td>0.0</td>\n",
       "      <td>325.0</td>\n",
       "      <td>0.000000</td>\n",
       "    </tr>\n",
       "    <tr>\n",
       "      <th>1</th>\n",
       "      <td>12347.0</td>\n",
       "      <td>6.0</td>\n",
       "      <td>365.0</td>\n",
       "      <td>367.0</td>\n",
       "      <td>599.701667</td>\n",
       "    </tr>\n",
       "    <tr>\n",
       "      <th>2</th>\n",
       "      <td>12348.0</td>\n",
       "      <td>3.0</td>\n",
       "      <td>283.0</td>\n",
       "      <td>358.0</td>\n",
       "      <td>301.480000</td>\n",
       "    </tr>\n",
       "    <tr>\n",
       "      <th>3</th>\n",
       "      <td>12349.0</td>\n",
       "      <td>0.0</td>\n",
       "      <td>0.0</td>\n",
       "      <td>18.0</td>\n",
       "      <td>0.000000</td>\n",
       "    </tr>\n",
       "    <tr>\n",
       "      <th>4</th>\n",
       "      <td>12350.0</td>\n",
       "      <td>0.0</td>\n",
       "      <td>0.0</td>\n",
       "      <td>310.0</td>\n",
       "      <td>0.000000</td>\n",
       "    </tr>\n",
       "  </tbody>\n",
       "</table>\n",
       "</div>"
      ],
      "text/plain": [
       "   Customer ID  frequency  recency      T  monetary_value\n",
       "0      12346.0        0.0      0.0  325.0        0.000000\n",
       "1      12347.0        6.0    365.0  367.0      599.701667\n",
       "2      12348.0        3.0    283.0  358.0      301.480000\n",
       "3      12349.0        0.0      0.0   18.0        0.000000\n",
       "4      12350.0        0.0      0.0  310.0        0.000000"
      ]
     },
     "execution_count": 11,
     "metadata": {},
     "output_type": "execute_result"
    }
   ],
   "source": [
    "from lifetimes.plotting import *\n",
    "from lifetimes.utils import *\n",
    "\n",
    "#Built-in utility functions from lifetimes package to transform the transactional data (one row per purchase) \n",
    "#into summary data (a frequency, recency, age and monetary).\n",
    "\n",
    "rfm_data = summary_data_from_transaction_data(rfm_data, 'Customer ID', 'InvoiceDate', monetary_value_col='Sales', observation_period_end='2011-12-9')\n",
    "rfm_data.reset_index().head()"
   ]
  },
  {
   "cell_type": "markdown",
   "id": "789b055e",
   "metadata": {},
   "source": [
    "1. frequency <br>\n",
    "frequency represents the number of repeat purchases the customer has made. This means that it’s one less than the total number of purchases. This is actually slightly wrong. It’s the count of time periods the customer had a purchase in. So if using days as units, then it’s the count of days the customer had a purchase on.\n",
    "\n",
    "\n",
    "2. T <br>\n",
    "T represents the age of the customer in whatever time units chosen (weekly, in the above dataset). This is equal to the duration between a customer’s first purchase and the end of the period under study.\n",
    "\n",
    "\n",
    "3. Recency <br>\n",
    "recency represents the age of the customer when they made their most recent purchases. This is equal to the duration between a customer’s first purchase and their latest purchase. (Thus if they have made only 1 purchase, the recency is 0.)\n",
    "\n",
    "\n",
    "4. monetary_value <br>\n",
    "monetary_value represents the average value of a given customer’s purchases. This is equal to the sum of all a customer’s purchases divided by the total number of purchases. Note that the denominator here is different than the frequency described above."
   ]
  },
  {
   "cell_type": "code",
   "execution_count": 12,
   "id": "fbcc25da",
   "metadata": {
    "ExecuteTime": {
     "end_time": "2022-11-05T06:42:29.546831Z",
     "start_time": "2022-11-05T06:42:27.757235Z"
    }
   },
   "outputs": [
    {
     "data": {
      "image/png": "[encoded data removed]",
      "text/plain": [
       "<Figure size 1500x1000 with 4 Axes>"
      ]
     },
     "metadata": {},
     "output_type": "display_data"
    }
   ],
   "source": [
    "plt.figure(figsize=(15,10))\n",
    "for col in range(0, len(rfm_data.columns)):\n",
    "    plt.subplot(2,2,col+1)\n",
    "    sns.histplot(x=rfm_data[rfm_data.columns[col]], bins=75, kde=True, palette='Blues_d')\n",
    "    plt.xlabel(' ')\n",
    "    plt.title(rfm_data.columns[col], fontsize=20)\n",
    "    plt.tight_layout()"
   ]
  },
  {
   "cell_type": "code",
   "execution_count": 101,
   "id": "219df81f",
   "metadata": {
    "ExecuteTime": {
     "end_time": "2022-11-05T09:09:38.153145Z",
     "start_time": "2022-11-05T09:09:38.120646Z"
    }
   },
   "outputs": [
    {
     "data": {
      "text/html": [
       "<div>\n",
       "<style scoped>\n",
       "    .dataframe tbody tr th:only-of-type {\n",
       "        vertical-align: middle;\n",
       "    }\n",
       "\n",
       "    .dataframe tbody tr th {\n",
       "        vertical-align: top;\n",
       "    }\n",
       "\n",
       "    .dataframe thead th {\n",
       "        text-align: right;\n",
       "    }\n",
       "</style>\n",
       "<table border=\"1\" class=\"dataframe\">\n",
       "  <thead>\n",
       "    <tr style=\"text-align: right;\">\n",
       "      <th></th>\n",
       "      <th>frequency</th>\n",
       "      <th>recency</th>\n",
       "      <th>T</th>\n",
       "      <th>monetary_value</th>\n",
       "    </tr>\n",
       "    <tr>\n",
       "      <th>Customer ID</th>\n",
       "      <th></th>\n",
       "      <th></th>\n",
       "      <th></th>\n",
       "      <th></th>\n",
       "    </tr>\n",
       "  </thead>\n",
       "  <tbody>\n",
       "    <tr>\n",
       "      <th>12346.0</th>\n",
       "      <td>0.0</td>\n",
       "      <td>0.0</td>\n",
       "      <td>325.0</td>\n",
       "      <td>0.000000</td>\n",
       "    </tr>\n",
       "    <tr>\n",
       "      <th>12347.0</th>\n",
       "      <td>6.0</td>\n",
       "      <td>365.0</td>\n",
       "      <td>367.0</td>\n",
       "      <td>599.701667</td>\n",
       "    </tr>\n",
       "    <tr>\n",
       "      <th>12348.0</th>\n",
       "      <td>3.0</td>\n",
       "      <td>283.0</td>\n",
       "      <td>358.0</td>\n",
       "      <td>301.480000</td>\n",
       "    </tr>\n",
       "    <tr>\n",
       "      <th>12349.0</th>\n",
       "      <td>0.0</td>\n",
       "      <td>0.0</td>\n",
       "      <td>18.0</td>\n",
       "      <td>0.000000</td>\n",
       "    </tr>\n",
       "    <tr>\n",
       "      <th>12350.0</th>\n",
       "      <td>0.0</td>\n",
       "      <td>0.0</td>\n",
       "      <td>310.0</td>\n",
       "      <td>0.000000</td>\n",
       "    </tr>\n",
       "  </tbody>\n",
       "</table>\n",
       "</div>"
      ],
      "text/plain": [
       "             frequency  recency      T  monetary_value\n",
       "Customer ID                                           \n",
       "12346.0            0.0      0.0  325.0        0.000000\n",
       "12347.0            6.0    365.0  367.0      599.701667\n",
       "12348.0            3.0    283.0  358.0      301.480000\n",
       "12349.0            0.0      0.0   18.0        0.000000\n",
       "12350.0            0.0      0.0  310.0        0.000000"
      ]
     },
     "execution_count": 101,
     "metadata": {},
     "output_type": "execute_result"
    }
   ],
   "source": [
    "rfm_data.head()"
   ]
  },
  {
   "cell_type": "code",
   "execution_count": 103,
   "id": "30a9388e",
   "metadata": {
    "ExecuteTime": {
     "end_time": "2022-11-05T09:09:56.522757Z",
     "start_time": "2022-11-05T09:09:56.511218Z"
    }
   },
   "outputs": [],
   "source": [
    "#rfm_data = rfm_data.abs()"
   ]
  },
  {
   "cell_type": "code",
   "execution_count": 104,
   "id": "73db98b8",
   "metadata": {
    "ExecuteTime": {
     "end_time": "2022-11-05T09:09:58.221410Z",
     "start_time": "2022-11-05T09:09:58.201582Z"
    }
   },
   "outputs": [
    {
     "data": {
      "text/html": [
       "<div>\n",
       "<style scoped>\n",
       "    .dataframe tbody tr th:only-of-type {\n",
       "        vertical-align: middle;\n",
       "    }\n",
       "\n",
       "    .dataframe tbody tr th {\n",
       "        vertical-align: top;\n",
       "    }\n",
       "\n",
       "    .dataframe thead th {\n",
       "        text-align: right;\n",
       "    }\n",
       "</style>\n",
       "<table border=\"1\" class=\"dataframe\">\n",
       "  <thead>\n",
       "    <tr style=\"text-align: right;\">\n",
       "      <th></th>\n",
       "      <th>frequency</th>\n",
       "      <th>recency</th>\n",
       "      <th>monetary_value</th>\n",
       "    </tr>\n",
       "    <tr>\n",
       "      <th>Customer ID</th>\n",
       "      <th></th>\n",
       "      <th></th>\n",
       "      <th></th>\n",
       "    </tr>\n",
       "  </thead>\n",
       "  <tbody>\n",
       "    <tr>\n",
       "      <th>12346.0</th>\n",
       "      <td>0.0</td>\n",
       "      <td>0.0</td>\n",
       "      <td>0.000000</td>\n",
       "    </tr>\n",
       "    <tr>\n",
       "      <th>12347.0</th>\n",
       "      <td>6.0</td>\n",
       "      <td>365.0</td>\n",
       "      <td>599.701667</td>\n",
       "    </tr>\n",
       "    <tr>\n",
       "      <th>12348.0</th>\n",
       "      <td>3.0</td>\n",
       "      <td>283.0</td>\n",
       "      <td>301.480000</td>\n",
       "    </tr>\n",
       "    <tr>\n",
       "      <th>12349.0</th>\n",
       "      <td>0.0</td>\n",
       "      <td>0.0</td>\n",
       "      <td>0.000000</td>\n",
       "    </tr>\n",
       "    <tr>\n",
       "      <th>12350.0</th>\n",
       "      <td>0.0</td>\n",
       "      <td>0.0</td>\n",
       "      <td>0.000000</td>\n",
       "    </tr>\n",
       "  </tbody>\n",
       "</table>\n",
       "</div>"
      ],
      "text/plain": [
       "             frequency  recency  monetary_value\n",
       "Customer ID                                    \n",
       "12346.0            0.0      0.0        0.000000\n",
       "12347.0            6.0    365.0      599.701667\n",
       "12348.0            3.0    283.0      301.480000\n",
       "12349.0            0.0      0.0        0.000000\n",
       "12350.0            0.0      0.0        0.000000"
      ]
     },
     "execution_count": 104,
     "metadata": {},
     "output_type": "execute_result"
    }
   ],
   "source": [
    "# remove T\n",
    "rfm_df = rfm_data[['frequency', 'recency', 'monetary_value']]\n",
    "rfm_df.head()"
   ]
  },
  {
   "cell_type": "markdown",
   "id": "e6e7a435",
   "metadata": {
    "ExecuteTime": {
     "end_time": "2022-11-05T03:40:27.610044Z",
     "start_time": "2022-11-05T03:40:27.061028Z"
    }
   },
   "source": [
    "## Standardization"
   ]
  },
  {
   "cell_type": "code",
   "execution_count": 105,
   "id": "cdfa9a55",
   "metadata": {
    "ExecuteTime": {
     "end_time": "2022-11-05T09:09:59.608489Z",
     "start_time": "2022-11-05T09:09:59.593216Z"
    }
   },
   "outputs": [],
   "source": [
    "from sklearn.preprocessing import StandardScaler\n",
    "\n",
    "sc_data = StandardScaler()\n",
    "data_std = sc_data.fit_transform(rfm_df)"
   ]
  },
  {
   "cell_type": "code",
   "execution_count": 106,
   "id": "3c1d8394",
   "metadata": {
    "ExecuteTime": {
     "end_time": "2022-11-05T09:10:00.642844Z",
     "start_time": "2022-11-05T09:10:00.625640Z"
    }
   },
   "outputs": [
    {
     "data": {
      "text/html": [
       "<div>\n",
       "<style scoped>\n",
       "    .dataframe tbody tr th:only-of-type {\n",
       "        vertical-align: middle;\n",
       "    }\n",
       "\n",
       "    .dataframe tbody tr th {\n",
       "        vertical-align: top;\n",
       "    }\n",
       "\n",
       "    .dataframe thead th {\n",
       "        text-align: right;\n",
       "    }\n",
       "</style>\n",
       "<table border=\"1\" class=\"dataframe\">\n",
       "  <thead>\n",
       "    <tr style=\"text-align: right;\">\n",
       "      <th></th>\n",
       "      <th>frequency</th>\n",
       "      <th>recency</th>\n",
       "      <th>monetary_value</th>\n",
       "    </tr>\n",
       "  </thead>\n",
       "  <tbody>\n",
       "    <tr>\n",
       "      <th>0</th>\n",
       "      <td>-0.511501</td>\n",
       "      <td>-1.005548</td>\n",
       "      <td>-0.598926</td>\n",
       "    </tr>\n",
       "    <tr>\n",
       "      <th>1</th>\n",
       "      <td>0.387567</td>\n",
       "      <td>1.739117</td>\n",
       "      <td>1.028791</td>\n",
       "    </tr>\n",
       "    <tr>\n",
       "      <th>2</th>\n",
       "      <td>-0.061967</td>\n",
       "      <td>1.122508</td>\n",
       "      <td>0.219354</td>\n",
       "    </tr>\n",
       "    <tr>\n",
       "      <th>3</th>\n",
       "      <td>-0.511501</td>\n",
       "      <td>-1.005548</td>\n",
       "      <td>-0.598926</td>\n",
       "    </tr>\n",
       "    <tr>\n",
       "      <th>4</th>\n",
       "      <td>-0.511501</td>\n",
       "      <td>-1.005548</td>\n",
       "      <td>-0.598926</td>\n",
       "    </tr>\n",
       "  </tbody>\n",
       "</table>\n",
       "</div>"
      ],
      "text/plain": [
       "   frequency   recency  monetary_value\n",
       "0  -0.511501 -1.005548       -0.598926\n",
       "1   0.387567  1.739117        1.028791\n",
       "2  -0.061967  1.122508        0.219354\n",
       "3  -0.511501 -1.005548       -0.598926\n",
       "4  -0.511501 -1.005548       -0.598926"
      ]
     },
     "execution_count": 106,
     "metadata": {},
     "output_type": "execute_result"
    }
   ],
   "source": [
    "data_std = pd.DataFrame(data_std, columns=rfm_df.columns)\n",
    "data_std.head()"
   ]
  },
  {
   "cell_type": "markdown",
   "id": "cfd9fb8a",
   "metadata": {},
   "source": [
    "## Elbow Method"
   ]
  },
  {
   "cell_type": "code",
   "execution_count": 107,
   "id": "80804b83",
   "metadata": {
    "ExecuteTime": {
     "end_time": "2022-11-05T09:10:04.083848Z",
     "start_time": "2022-11-05T09:10:02.226423Z"
    }
   },
   "outputs": [
    {
     "data": {
      "text/plain": [
       "<AxesSubplot:>"
      ]
     },
     "execution_count": 107,
     "metadata": {},
     "output_type": "execute_result"
    },
    {
     "data": {
      "image/png": "[encoded data removed]",
      "text/plain": [
       "<Figure size 800x400 with 1 Axes>"
      ]
     },
     "metadata": {},
     "output_type": "display_data"
    }
   ],
   "source": [
    "from sklearn.cluster import KMeans\n",
    "inertia = []\n",
    "\n",
    "for i in range(1, 11):\n",
    "    kmeans = KMeans(n_clusters=i, random_state=123)\n",
    "    kmeans.fit(data_std)\n",
    "    inertia.append(kmeans.inertia_)\n",
    "\n",
    "\n",
    "plt.figure(figsize=(8, 4))\n",
    "\n",
    "# plt.plot(inertia)\n",
    "sns.lineplot(x=range(1, 11), y=inertia, color='#000087', linewidth = 4)\n",
    "sns.scatterplot(x=range(1, 11), y=inertia, s=100, color='#800000',  linestyle='--')"
   ]
  },
  {
   "cell_type": "code",
   "execution_count": 108,
   "id": "03d73013",
   "metadata": {
    "ExecuteTime": {
     "end_time": "2022-11-05T09:10:07.417672Z",
     "start_time": "2022-11-05T09:10:07.180699Z"
    }
   },
   "outputs": [
    {
     "data": {
      "text/html": [
       "<div>\n",
       "<style scoped>\n",
       "    .dataframe tbody tr th:only-of-type {\n",
       "        vertical-align: middle;\n",
       "    }\n",
       "\n",
       "    .dataframe tbody tr th {\n",
       "        vertical-align: top;\n",
       "    }\n",
       "\n",
       "    .dataframe thead th {\n",
       "        text-align: right;\n",
       "    }\n",
       "</style>\n",
       "<table border=\"1\" class=\"dataframe\">\n",
       "  <thead>\n",
       "    <tr style=\"text-align: right;\">\n",
       "      <th></th>\n",
       "      <th>frequency</th>\n",
       "      <th>recency</th>\n",
       "      <th>monetary_value</th>\n",
       "      <th>K_Cluster</th>\n",
       "    </tr>\n",
       "  </thead>\n",
       "  <tbody>\n",
       "    <tr>\n",
       "      <th>0</th>\n",
       "      <td>-0.511501</td>\n",
       "      <td>-1.005548</td>\n",
       "      <td>-0.598926</td>\n",
       "      <td>1</td>\n",
       "    </tr>\n",
       "    <tr>\n",
       "      <th>1</th>\n",
       "      <td>0.387567</td>\n",
       "      <td>1.739117</td>\n",
       "      <td>1.028791</td>\n",
       "      <td>0</td>\n",
       "    </tr>\n",
       "    <tr>\n",
       "      <th>2</th>\n",
       "      <td>-0.061967</td>\n",
       "      <td>1.122508</td>\n",
       "      <td>0.219354</td>\n",
       "      <td>0</td>\n",
       "    </tr>\n",
       "    <tr>\n",
       "      <th>3</th>\n",
       "      <td>-0.511501</td>\n",
       "      <td>-1.005548</td>\n",
       "      <td>-0.598926</td>\n",
       "      <td>1</td>\n",
       "    </tr>\n",
       "    <tr>\n",
       "      <th>4</th>\n",
       "      <td>-0.511501</td>\n",
       "      <td>-1.005548</td>\n",
       "      <td>-0.598926</td>\n",
       "      <td>1</td>\n",
       "    </tr>\n",
       "  </tbody>\n",
       "</table>\n",
       "</div>"
      ],
      "text/plain": [
       "   frequency   recency  monetary_value  K_Cluster\n",
       "0  -0.511501 -1.005548       -0.598926          1\n",
       "1   0.387567  1.739117        1.028791          0\n",
       "2  -0.061967  1.122508        0.219354          0\n",
       "3  -0.511501 -1.005548       -0.598926          1\n",
       "4  -0.511501 -1.005548       -0.598926          1"
      ]
     },
     "execution_count": 108,
     "metadata": {},
     "output_type": "execute_result"
    }
   ],
   "source": [
    "# K-Means Clustering\n",
    "# Even elbow method shows 2 cluster is most effective segments, we will try using 3 segments based on business needs\n",
    "kmeans = KMeans(n_clusters=3, random_state=0)\n",
    "\n",
    "# fit model \n",
    "kc = kmeans.fit(data_std.values)\n",
    "cluster_labels = kc.labels_\n",
    "\n",
    "# add cluster\n",
    "data_cluster = data_std.assign(K_Cluster = cluster_labels)\n",
    "data_cluster.head()"
   ]
  },
  {
   "cell_type": "code",
   "execution_count": 109,
   "id": "dcea72f5",
   "metadata": {
    "ExecuteTime": {
     "end_time": "2022-11-05T09:10:11.596729Z",
     "start_time": "2022-11-05T09:10:11.578102Z"
    }
   },
   "outputs": [
    {
     "data": {
      "text/html": [
       "<div>\n",
       "<style scoped>\n",
       "    .dataframe tbody tr th:only-of-type {\n",
       "        vertical-align: middle;\n",
       "    }\n",
       "\n",
       "    .dataframe tbody tr th {\n",
       "        vertical-align: top;\n",
       "    }\n",
       "\n",
       "    .dataframe thead th {\n",
       "        text-align: right;\n",
       "    }\n",
       "</style>\n",
       "<table border=\"1\" class=\"dataframe\">\n",
       "  <thead>\n",
       "    <tr style=\"text-align: right;\">\n",
       "      <th></th>\n",
       "      <th>frequency</th>\n",
       "      <th>recency</th>\n",
       "      <th>monetary_value</th>\n",
       "      <th>K_Cluster</th>\n",
       "    </tr>\n",
       "    <tr>\n",
       "      <th>Customer ID</th>\n",
       "      <th></th>\n",
       "      <th></th>\n",
       "      <th></th>\n",
       "      <th></th>\n",
       "    </tr>\n",
       "  </thead>\n",
       "  <tbody>\n",
       "    <tr>\n",
       "      <th>12346.0</th>\n",
       "      <td>0.0</td>\n",
       "      <td>0.0</td>\n",
       "      <td>0.000000</td>\n",
       "      <td>1</td>\n",
       "    </tr>\n",
       "    <tr>\n",
       "      <th>12347.0</th>\n",
       "      <td>6.0</td>\n",
       "      <td>365.0</td>\n",
       "      <td>599.701667</td>\n",
       "      <td>0</td>\n",
       "    </tr>\n",
       "    <tr>\n",
       "      <th>12348.0</th>\n",
       "      <td>3.0</td>\n",
       "      <td>283.0</td>\n",
       "      <td>301.480000</td>\n",
       "      <td>0</td>\n",
       "    </tr>\n",
       "    <tr>\n",
       "      <th>12349.0</th>\n",
       "      <td>0.0</td>\n",
       "      <td>0.0</td>\n",
       "      <td>0.000000</td>\n",
       "      <td>1</td>\n",
       "    </tr>\n",
       "    <tr>\n",
       "      <th>12350.0</th>\n",
       "      <td>0.0</td>\n",
       "      <td>0.0</td>\n",
       "      <td>0.000000</td>\n",
       "      <td>1</td>\n",
       "    </tr>\n",
       "  </tbody>\n",
       "</table>\n",
       "</div>"
      ],
      "text/plain": [
       "             frequency  recency  monetary_value  K_Cluster\n",
       "Customer ID                                               \n",
       "12346.0            0.0      0.0        0.000000          1\n",
       "12347.0            6.0    365.0      599.701667          0\n",
       "12348.0            3.0    283.0      301.480000          0\n",
       "12349.0            0.0      0.0        0.000000          1\n",
       "12350.0            0.0      0.0        0.000000          1"
      ]
     },
     "execution_count": 109,
     "metadata": {},
     "output_type": "execute_result"
    }
   ],
   "source": [
    "# add label to 'data' dataframe\n",
    "data_label = rfm_df.assign(K_Cluster = cluster_labels)\n",
    "data_label.head()"
   ]
  },
  {
   "cell_type": "code",
   "execution_count": 114,
   "id": "c224de8f",
   "metadata": {
    "ExecuteTime": {
     "end_time": "2022-11-05T09:17:28.025361Z",
     "start_time": "2022-11-05T09:17:27.984347Z"
    }
   },
   "outputs": [
    {
     "data": {
      "text/plain": [
       "1    2447\n",
       "0    1866\n",
       "2      59\n",
       "Name: K_Cluster, dtype: int64"
      ]
     },
     "execution_count": 114,
     "metadata": {},
     "output_type": "execute_result"
    }
   ],
   "source": [
    "data_label['K_Cluster'].value_counts()"
   ]
  },
  {
   "cell_type": "markdown",
   "id": "80e23f5d",
   "metadata": {
    "ExecuteTime": {
     "end_time": "2022-11-05T04:18:33.542157Z",
     "start_time": "2022-11-05T04:18:33.527101Z"
    }
   },
   "source": [
    "## Insights"
   ]
  },
  {
   "cell_type": "code",
   "execution_count": 110,
   "id": "4dfc97db",
   "metadata": {
    "ExecuteTime": {
     "end_time": "2022-11-05T09:10:15.006292Z",
     "start_time": "2022-11-05T09:10:13.867219Z"
    }
   },
   "outputs": [
    {
     "data": {
      "image/png": "[encoded data removed]",
      "text/plain": [
       "<Figure size 1500x1300 with 4 Axes>"
      ]
     },
     "metadata": {},
     "output_type": "display_data"
    }
   ],
   "source": [
    "plt.figure(figsize=(15,13))\n",
    "for col in range(0, len(data_label.columns)):\n",
    "    plt.subplot(3,2,col+1)\n",
    "    sns.boxenplot(x=data_label['K_Cluster'], y=data_label[data_label.columns[col]], palette='viridis')\n",
    "    plt.title(data_label.columns[col], fontsize=20)\n",
    "    plt.tight_layout()"
   ]
  },
  {
   "cell_type": "markdown",
   "id": "28fec799",
   "metadata": {},
   "source": [
    "## Snake Plot"
   ]
  },
  {
   "cell_type": "code",
   "execution_count": 111,
   "id": "e93a32b4",
   "metadata": {
    "ExecuteTime": {
     "end_time": "2022-11-05T09:10:24.041986Z",
     "start_time": "2022-11-05T09:10:24.023295Z"
    }
   },
   "outputs": [],
   "source": [
    "rfm_normalized_melt = pd.melt(data_cluster, id_vars=['K_Cluster'], \n",
    "                              value_vars=['recency', 'frequency', 'monetary_value'],\n",
    "                              var_name='Metric', value_name='Value')"
   ]
  },
  {
   "cell_type": "code",
   "execution_count": 112,
   "id": "ce788749",
   "metadata": {
    "ExecuteTime": {
     "end_time": "2022-11-05T09:10:25.359014Z",
     "start_time": "2022-11-05T09:10:25.343662Z"
    }
   },
   "outputs": [
    {
     "data": {
      "text/html": [
       "<div>\n",
       "<style scoped>\n",
       "    .dataframe tbody tr th:only-of-type {\n",
       "        vertical-align: middle;\n",
       "    }\n",
       "\n",
       "    .dataframe tbody tr th {\n",
       "        vertical-align: top;\n",
       "    }\n",
       "\n",
       "    .dataframe thead th {\n",
       "        text-align: right;\n",
       "    }\n",
       "</style>\n",
       "<table border=\"1\" class=\"dataframe\">\n",
       "  <thead>\n",
       "    <tr style=\"text-align: right;\">\n",
       "      <th></th>\n",
       "      <th>K_Cluster</th>\n",
       "      <th>Metric</th>\n",
       "      <th>Value</th>\n",
       "    </tr>\n",
       "  </thead>\n",
       "  <tbody>\n",
       "    <tr>\n",
       "      <th>0</th>\n",
       "      <td>1</td>\n",
       "      <td>recency</td>\n",
       "      <td>-1.005548</td>\n",
       "    </tr>\n",
       "    <tr>\n",
       "      <th>1</th>\n",
       "      <td>0</td>\n",
       "      <td>recency</td>\n",
       "      <td>1.739117</td>\n",
       "    </tr>\n",
       "    <tr>\n",
       "      <th>2</th>\n",
       "      <td>0</td>\n",
       "      <td>recency</td>\n",
       "      <td>1.122508</td>\n",
       "    </tr>\n",
       "    <tr>\n",
       "      <th>3</th>\n",
       "      <td>1</td>\n",
       "      <td>recency</td>\n",
       "      <td>-1.005548</td>\n",
       "    </tr>\n",
       "    <tr>\n",
       "      <th>4</th>\n",
       "      <td>1</td>\n",
       "      <td>recency</td>\n",
       "      <td>-1.005548</td>\n",
       "    </tr>\n",
       "  </tbody>\n",
       "</table>\n",
       "</div>"
      ],
      "text/plain": [
       "   K_Cluster   Metric     Value\n",
       "0          1  recency -1.005548\n",
       "1          0  recency  1.739117\n",
       "2          0  recency  1.122508\n",
       "3          1  recency -1.005548\n",
       "4          1  recency -1.005548"
      ]
     },
     "execution_count": 112,
     "metadata": {},
     "output_type": "execute_result"
    }
   ],
   "source": [
    "rfm_normalized_melt.head()"
   ]
  },
  {
   "cell_type": "code",
   "execution_count": 113,
   "id": "d12b09d2",
   "metadata": {
    "ExecuteTime": {
     "end_time": "2022-11-05T09:10:27.390170Z",
     "start_time": "2022-11-05T09:10:26.571781Z"
    }
   },
   "outputs": [
    {
     "data": {
      "text/plain": [
       "<AxesSubplot:title={'center':'Snake plot of standardized variables'}, xlabel='Metric', ylabel='Value'>"
      ]
     },
     "execution_count": 113,
     "metadata": {},
     "output_type": "execute_result"
    },
    {
     "data": {
      "image/png": "[encoded data removed]",
      "text/plain": [
       "<Figure size 640x480 with 1 Axes>"
      ]
     },
     "metadata": {},
     "output_type": "display_data"
    }
   ],
   "source": [
    "plt.title(\"Snake plot of standardized variables\");\n",
    "sns.lineplot(x='Metric', y='Value', hue='K_Cluster', data=rfm_normalized_melt, palette='viridis')"
   ]
  },
  {
   "cell_type": "markdown",
   "id": "4f2628e2",
   "metadata": {
    "ExecuteTime": {
     "end_time": "2022-11-05T04:26:27.320124Z",
     "start_time": "2022-11-05T04:26:27.306510Z"
    }
   },
   "source": [
    "- Cluster 1 : `Best Customers` --> Bought most frequently, high spender, high recency\n",
    "- Cluster 2 : `Average Customers` -->  So so\n",
    "- Cluster 0 : `Low Spender` --> Spend less, small recency, low frequent"
   ]
  },
  {
   "cell_type": "markdown",
   "id": "d22774ca",
   "metadata": {},
   "source": [
    "# RFM Analysis"
   ]
  },
  {
   "cell_type": "code",
   "execution_count": 25,
   "id": "f0982bcb",
   "metadata": {
    "ExecuteTime": {
     "end_time": "2022-11-05T06:47:45.384209Z",
     "start_time": "2022-11-05T06:47:45.294863Z"
    }
   },
   "outputs": [
    {
     "data": {
      "text/html": [
       "<div>\n",
       "<style scoped>\n",
       "    .dataframe tbody tr th:only-of-type {\n",
       "        vertical-align: middle;\n",
       "    }\n",
       "\n",
       "    .dataframe tbody tr th {\n",
       "        vertical-align: top;\n",
       "    }\n",
       "\n",
       "    .dataframe thead th {\n",
       "        text-align: right;\n",
       "    }\n",
       "</style>\n",
       "<table border=\"1\" class=\"dataframe\">\n",
       "  <thead>\n",
       "    <tr style=\"text-align: right;\">\n",
       "      <th></th>\n",
       "      <th>frequency</th>\n",
       "      <th>recency</th>\n",
       "      <th>T</th>\n",
       "      <th>monetary_value</th>\n",
       "    </tr>\n",
       "    <tr>\n",
       "      <th>Customer ID</th>\n",
       "      <th></th>\n",
       "      <th></th>\n",
       "      <th></th>\n",
       "      <th></th>\n",
       "    </tr>\n",
       "  </thead>\n",
       "  <tbody>\n",
       "    <tr>\n",
       "      <th>12346.0</th>\n",
       "      <td>0.0</td>\n",
       "      <td>0.0</td>\n",
       "      <td>325.0</td>\n",
       "      <td>0.000000</td>\n",
       "    </tr>\n",
       "    <tr>\n",
       "      <th>12347.0</th>\n",
       "      <td>6.0</td>\n",
       "      <td>365.0</td>\n",
       "      <td>367.0</td>\n",
       "      <td>599.701667</td>\n",
       "    </tr>\n",
       "    <tr>\n",
       "      <th>12348.0</th>\n",
       "      <td>3.0</td>\n",
       "      <td>283.0</td>\n",
       "      <td>358.0</td>\n",
       "      <td>301.480000</td>\n",
       "    </tr>\n",
       "    <tr>\n",
       "      <th>12349.0</th>\n",
       "      <td>0.0</td>\n",
       "      <td>0.0</td>\n",
       "      <td>18.0</td>\n",
       "      <td>0.000000</td>\n",
       "    </tr>\n",
       "    <tr>\n",
       "      <th>12350.0</th>\n",
       "      <td>0.0</td>\n",
       "      <td>0.0</td>\n",
       "      <td>310.0</td>\n",
       "      <td>0.000000</td>\n",
       "    </tr>\n",
       "  </tbody>\n",
       "</table>\n",
       "</div>"
      ],
      "text/plain": [
       "             frequency  recency      T  monetary_value\n",
       "Customer ID                                           \n",
       "12346.0            0.0      0.0  325.0        0.000000\n",
       "12347.0            6.0    365.0  367.0      599.701667\n",
       "12348.0            3.0    283.0  358.0      301.480000\n",
       "12349.0            0.0      0.0   18.0        0.000000\n",
       "12350.0            0.0      0.0  310.0        0.000000"
      ]
     },
     "execution_count": 25,
     "metadata": {},
     "output_type": "execute_result"
    }
   ],
   "source": [
    "rfm_data.head()"
   ]
  },
  {
   "cell_type": "code",
   "execution_count": 26,
   "id": "277b4d28",
   "metadata": {
    "ExecuteTime": {
     "end_time": "2022-11-05T06:48:46.485954Z",
     "start_time": "2022-11-05T06:48:46.429269Z"
    }
   },
   "outputs": [
    {
     "data": {
      "text/html": [
       "<div>\n",
       "<style scoped>\n",
       "    .dataframe tbody tr th:only-of-type {\n",
       "        vertical-align: middle;\n",
       "    }\n",
       "\n",
       "    .dataframe tbody tr th {\n",
       "        vertical-align: top;\n",
       "    }\n",
       "\n",
       "    .dataframe thead th {\n",
       "        text-align: right;\n",
       "    }\n",
       "</style>\n",
       "<table border=\"1\" class=\"dataframe\">\n",
       "  <thead>\n",
       "    <tr style=\"text-align: right;\">\n",
       "      <th></th>\n",
       "      <th>count</th>\n",
       "      <th>mean</th>\n",
       "      <th>std</th>\n",
       "      <th>min</th>\n",
       "      <th>25%</th>\n",
       "      <th>50%</th>\n",
       "      <th>75%</th>\n",
       "      <th>max</th>\n",
       "    </tr>\n",
       "  </thead>\n",
       "  <tbody>\n",
       "    <tr>\n",
       "      <th>frequency</th>\n",
       "      <td>4372.0</td>\n",
       "      <td>3.413541</td>\n",
       "      <td>6.674343</td>\n",
       "      <td>0.00</td>\n",
       "      <td>0.0</td>\n",
       "      <td>1.000</td>\n",
       "      <td>4.0000</td>\n",
       "      <td>145.000000</td>\n",
       "    </tr>\n",
       "    <tr>\n",
       "      <th>recency</th>\n",
       "      <td>4372.0</td>\n",
       "      <td>133.723010</td>\n",
       "      <td>133.000474</td>\n",
       "      <td>0.00</td>\n",
       "      <td>0.0</td>\n",
       "      <td>98.000</td>\n",
       "      <td>256.0000</td>\n",
       "      <td>373.000000</td>\n",
       "    </tr>\n",
       "    <tr>\n",
       "      <th>T</th>\n",
       "      <td>4372.0</td>\n",
       "      <td>225.304209</td>\n",
       "      <td>118.384168</td>\n",
       "      <td>0.00</td>\n",
       "      <td>115.0</td>\n",
       "      <td>253.000</td>\n",
       "      <td>331.0000</td>\n",
       "      <td>373.000000</td>\n",
       "    </tr>\n",
       "    <tr>\n",
       "      <th>monetary_value</th>\n",
       "      <td>4372.0</td>\n",
       "      <td>213.255688</td>\n",
       "      <td>372.810120</td>\n",
       "      <td>-3528.34</td>\n",
       "      <td>0.0</td>\n",
       "      <td>148.955</td>\n",
       "      <td>304.9425</td>\n",
       "      <td>8866.081538</td>\n",
       "    </tr>\n",
       "  </tbody>\n",
       "</table>\n",
       "</div>"
      ],
      "text/plain": [
       "                 count        mean         std      min    25%      50%  \\\n",
       "frequency       4372.0    3.413541    6.674343     0.00    0.0    1.000   \n",
       "recency         4372.0  133.723010  133.000474     0.00    0.0   98.000   \n",
       "T               4372.0  225.304209  118.384168     0.00  115.0  253.000   \n",
       "monetary_value  4372.0  213.255688  372.810120 -3528.34    0.0  148.955   \n",
       "\n",
       "                     75%          max  \n",
       "frequency         4.0000   145.000000  \n",
       "recency         256.0000   373.000000  \n",
       "T               331.0000   373.000000  \n",
       "monetary_value  304.9425  8866.081538  "
      ]
     },
     "execution_count": 26,
     "metadata": {},
     "output_type": "execute_result"
    }
   ],
   "source": [
    "rfm_data.describe().T"
   ]
  },
  {
   "cell_type": "code",
   "execution_count": 41,
   "id": "3c74d80b",
   "metadata": {
    "ExecuteTime": {
     "end_time": "2022-11-05T07:04:34.254598Z",
     "start_time": "2022-11-05T07:04:34.203337Z"
    }
   },
   "outputs": [
    {
     "data": {
      "text/html": [
       "<div>\n",
       "<style scoped>\n",
       "    .dataframe tbody tr th:only-of-type {\n",
       "        vertical-align: middle;\n",
       "    }\n",
       "\n",
       "    .dataframe tbody tr th {\n",
       "        vertical-align: top;\n",
       "    }\n",
       "\n",
       "    .dataframe thead th {\n",
       "        text-align: right;\n",
       "    }\n",
       "</style>\n",
       "<table border=\"1\" class=\"dataframe\">\n",
       "  <thead>\n",
       "    <tr style=\"text-align: right;\">\n",
       "      <th></th>\n",
       "      <th>count</th>\n",
       "      <th>mean</th>\n",
       "      <th>std</th>\n",
       "      <th>min</th>\n",
       "      <th>25%</th>\n",
       "      <th>50%</th>\n",
       "      <th>75%</th>\n",
       "      <th>max</th>\n",
       "    </tr>\n",
       "  </thead>\n",
       "  <tbody>\n",
       "    <tr>\n",
       "      <th>frequency</th>\n",
       "      <td>4372.0</td>\n",
       "      <td>3.413541</td>\n",
       "      <td>6.674343</td>\n",
       "      <td>0.0</td>\n",
       "      <td>0.0</td>\n",
       "      <td>1.0000</td>\n",
       "      <td>4.000000</td>\n",
       "      <td>145.000000</td>\n",
       "    </tr>\n",
       "    <tr>\n",
       "      <th>recency</th>\n",
       "      <td>4372.0</td>\n",
       "      <td>133.723010</td>\n",
       "      <td>133.000474</td>\n",
       "      <td>0.0</td>\n",
       "      <td>0.0</td>\n",
       "      <td>98.0000</td>\n",
       "      <td>256.000000</td>\n",
       "      <td>373.000000</td>\n",
       "    </tr>\n",
       "    <tr>\n",
       "      <th>monetary_value</th>\n",
       "      <td>4372.0</td>\n",
       "      <td>220.663076</td>\n",
       "      <td>368.473127</td>\n",
       "      <td>0.0</td>\n",
       "      <td>0.0</td>\n",
       "      <td>151.1775</td>\n",
       "      <td>305.634121</td>\n",
       "      <td>8866.081538</td>\n",
       "    </tr>\n",
       "  </tbody>\n",
       "</table>\n",
       "</div>"
      ],
      "text/plain": [
       "                 count        mean         std  min  25%       50%  \\\n",
       "frequency       4372.0    3.413541    6.674343  0.0  0.0    1.0000   \n",
       "recency         4372.0  133.723010  133.000474  0.0  0.0   98.0000   \n",
       "monetary_value  4372.0  220.663076  368.473127  0.0  0.0  151.1775   \n",
       "\n",
       "                       75%          max  \n",
       "frequency         4.000000   145.000000  \n",
       "recency         256.000000   373.000000  \n",
       "monetary_value  305.634121  8866.081538  "
      ]
     },
     "execution_count": 41,
     "metadata": {},
     "output_type": "execute_result"
    }
   ],
   "source": [
    "# change to absolute (letsay our input is false, so we need to absulte all the values)\n",
    "rfm_datas = rfm_data.abs()\n",
    "rfm_datas = rfm_datas.drop('T', axis=1)\n",
    "rfm_datas.describe().T"
   ]
  },
  {
   "cell_type": "markdown",
   "id": "1aa9e88b",
   "metadata": {},
   "source": [
    "## Set Bins"
   ]
  },
  {
   "cell_type": "code",
   "execution_count": 42,
   "id": "0c32a39a",
   "metadata": {
    "ExecuteTime": {
     "end_time": "2022-11-05T07:04:35.769312Z",
     "start_time": "2022-11-05T07:04:35.751264Z"
    }
   },
   "outputs": [],
   "source": [
    "# set the bins [<min, x, x, max]\n",
    "r_bins = [-1, 0, 256, 373]\n",
    "f_bins = [-1, 0, 4, 145]\n",
    "m_bins = [-1, 0, 305.634121, 8866.081538]\n",
    "rfm_datas['r_score'] = pd.cut(rfm_datas['recency'], r_bins, labels = [3, 2, 1])\n",
    "rfm_datas['f_score'] = pd.cut(rfm_datas['frequency'], f_bins, labels = [1, 2, 3])\n",
    "rfm_datas['m_score'] = pd.cut(rfm_datas['monetary_value'], m_bins, labels = [1, 2, 3])"
   ]
  },
  {
   "cell_type": "code",
   "execution_count": 46,
   "id": "9cc79a59",
   "metadata": {
    "ExecuteTime": {
     "end_time": "2022-11-05T07:04:56.203700Z",
     "start_time": "2022-11-05T07:04:56.185464Z"
    }
   },
   "outputs": [
    {
     "data": {
      "text/html": [
       "<div>\n",
       "<style scoped>\n",
       "    .dataframe tbody tr th:only-of-type {\n",
       "        vertical-align: middle;\n",
       "    }\n",
       "\n",
       "    .dataframe tbody tr th {\n",
       "        vertical-align: top;\n",
       "    }\n",
       "\n",
       "    .dataframe thead th {\n",
       "        text-align: right;\n",
       "    }\n",
       "</style>\n",
       "<table border=\"1\" class=\"dataframe\">\n",
       "  <thead>\n",
       "    <tr style=\"text-align: right;\">\n",
       "      <th></th>\n",
       "      <th>frequency</th>\n",
       "      <th>recency</th>\n",
       "      <th>monetary_value</th>\n",
       "      <th>r_score</th>\n",
       "      <th>f_score</th>\n",
       "      <th>m_score</th>\n",
       "    </tr>\n",
       "    <tr>\n",
       "      <th>Customer ID</th>\n",
       "      <th></th>\n",
       "      <th></th>\n",
       "      <th></th>\n",
       "      <th></th>\n",
       "      <th></th>\n",
       "      <th></th>\n",
       "    </tr>\n",
       "  </thead>\n",
       "  <tbody>\n",
       "    <tr>\n",
       "      <th>12346.0</th>\n",
       "      <td>0.0</td>\n",
       "      <td>0.0</td>\n",
       "      <td>0.000000</td>\n",
       "      <td>3</td>\n",
       "      <td>1</td>\n",
       "      <td>1</td>\n",
       "    </tr>\n",
       "    <tr>\n",
       "      <th>12347.0</th>\n",
       "      <td>6.0</td>\n",
       "      <td>365.0</td>\n",
       "      <td>599.701667</td>\n",
       "      <td>1</td>\n",
       "      <td>3</td>\n",
       "      <td>3</td>\n",
       "    </tr>\n",
       "    <tr>\n",
       "      <th>12348.0</th>\n",
       "      <td>3.0</td>\n",
       "      <td>283.0</td>\n",
       "      <td>301.480000</td>\n",
       "      <td>1</td>\n",
       "      <td>2</td>\n",
       "      <td>2</td>\n",
       "    </tr>\n",
       "    <tr>\n",
       "      <th>12349.0</th>\n",
       "      <td>0.0</td>\n",
       "      <td>0.0</td>\n",
       "      <td>0.000000</td>\n",
       "      <td>3</td>\n",
       "      <td>1</td>\n",
       "      <td>1</td>\n",
       "    </tr>\n",
       "    <tr>\n",
       "      <th>12350.0</th>\n",
       "      <td>0.0</td>\n",
       "      <td>0.0</td>\n",
       "      <td>0.000000</td>\n",
       "      <td>3</td>\n",
       "      <td>1</td>\n",
       "      <td>1</td>\n",
       "    </tr>\n",
       "  </tbody>\n",
       "</table>\n",
       "</div>"
      ],
      "text/plain": [
       "             frequency  recency  monetary_value r_score f_score m_score\n",
       "Customer ID                                                            \n",
       "12346.0            0.0      0.0        0.000000       3       1       1\n",
       "12347.0            6.0    365.0      599.701667       1       3       3\n",
       "12348.0            3.0    283.0      301.480000       1       2       2\n",
       "12349.0            0.0      0.0        0.000000       3       1       1\n",
       "12350.0            0.0      0.0        0.000000       3       1       1"
      ]
     },
     "execution_count": 46,
     "metadata": {},
     "output_type": "execute_result"
    }
   ],
   "source": [
    "rfm_datas.head()"
   ]
  },
  {
   "cell_type": "markdown",
   "id": "feb20825",
   "metadata": {},
   "source": [
    "## Calculate Score"
   ]
  },
  {
   "cell_type": "code",
   "execution_count": 55,
   "id": "546bc9cc",
   "metadata": {
    "ExecuteTime": {
     "end_time": "2022-11-05T07:05:44.317545Z",
     "start_time": "2022-11-05T07:05:44.276239Z"
    }
   },
   "outputs": [
    {
     "data": {
      "text/plain": [
       "frequency         0\n",
       "recency           0\n",
       "monetary_value    0\n",
       "r_score           0\n",
       "f_score           0\n",
       "m_score           1\n",
       "dtype: int64"
      ]
     },
     "execution_count": 55,
     "metadata": {},
     "output_type": "execute_result"
    }
   ],
   "source": [
    "rfm_datas.isna().sum()"
   ]
  },
  {
   "cell_type": "code",
   "execution_count": 56,
   "id": "e64be9f5",
   "metadata": {
    "ExecuteTime": {
     "end_time": "2022-11-05T07:06:09.610425Z",
     "start_time": "2022-11-05T07:06:09.594962Z"
    }
   },
   "outputs": [
    {
     "data": {
      "text/plain": [
       "frequency         0\n",
       "recency           0\n",
       "monetary_value    0\n",
       "r_score           0\n",
       "f_score           0\n",
       "m_score           0\n",
       "dtype: int64"
      ]
     },
     "execution_count": 56,
     "metadata": {},
     "output_type": "execute_result"
    }
   ],
   "source": [
    "rfm_datas = rfm_datas.dropna()\n",
    "rfm_datas.isna().sum()"
   ]
  },
  {
   "cell_type": "code",
   "execution_count": 58,
   "id": "0b0096a1",
   "metadata": {
    "ExecuteTime": {
     "end_time": "2022-11-05T07:06:50.160106Z",
     "start_time": "2022-11-05T07:06:50.130222Z"
    }
   },
   "outputs": [],
   "source": [
    "rfm_datas['r_score'] = rfm_datas['r_score'].astype(int)\n",
    "rfm_datas['f_score'] = rfm_datas['f_score'].astype(int)\n",
    "rfm_datas['m_score'] = rfm_datas['m_score'].astype(int)"
   ]
  },
  {
   "cell_type": "code",
   "execution_count": 60,
   "id": "36bf6d2f",
   "metadata": {
    "ExecuteTime": {
     "end_time": "2022-11-05T07:07:09.330284Z",
     "start_time": "2022-11-05T07:07:09.300425Z"
    }
   },
   "outputs": [
    {
     "data": {
      "text/html": [
       "<div>\n",
       "<style scoped>\n",
       "    .dataframe tbody tr th:only-of-type {\n",
       "        vertical-align: middle;\n",
       "    }\n",
       "\n",
       "    .dataframe tbody tr th {\n",
       "        vertical-align: top;\n",
       "    }\n",
       "\n",
       "    .dataframe thead th {\n",
       "        text-align: right;\n",
       "    }\n",
       "</style>\n",
       "<table border=\"1\" class=\"dataframe\">\n",
       "  <thead>\n",
       "    <tr style=\"text-align: right;\">\n",
       "      <th></th>\n",
       "      <th>frequency</th>\n",
       "      <th>recency</th>\n",
       "      <th>monetary_value</th>\n",
       "      <th>r_score</th>\n",
       "      <th>f_score</th>\n",
       "      <th>m_score</th>\n",
       "      <th>rfm_score</th>\n",
       "    </tr>\n",
       "    <tr>\n",
       "      <th>Customer ID</th>\n",
       "      <th></th>\n",
       "      <th></th>\n",
       "      <th></th>\n",
       "      <th></th>\n",
       "      <th></th>\n",
       "      <th></th>\n",
       "      <th></th>\n",
       "    </tr>\n",
       "  </thead>\n",
       "  <tbody>\n",
       "    <tr>\n",
       "      <th>12346.0</th>\n",
       "      <td>0.0</td>\n",
       "      <td>0.0</td>\n",
       "      <td>0.000000</td>\n",
       "      <td>3</td>\n",
       "      <td>1</td>\n",
       "      <td>1</td>\n",
       "      <td>5</td>\n",
       "    </tr>\n",
       "    <tr>\n",
       "      <th>12347.0</th>\n",
       "      <td>6.0</td>\n",
       "      <td>365.0</td>\n",
       "      <td>599.701667</td>\n",
       "      <td>1</td>\n",
       "      <td>3</td>\n",
       "      <td>3</td>\n",
       "      <td>7</td>\n",
       "    </tr>\n",
       "    <tr>\n",
       "      <th>12348.0</th>\n",
       "      <td>3.0</td>\n",
       "      <td>283.0</td>\n",
       "      <td>301.480000</td>\n",
       "      <td>1</td>\n",
       "      <td>2</td>\n",
       "      <td>2</td>\n",
       "      <td>5</td>\n",
       "    </tr>\n",
       "    <tr>\n",
       "      <th>12349.0</th>\n",
       "      <td>0.0</td>\n",
       "      <td>0.0</td>\n",
       "      <td>0.000000</td>\n",
       "      <td>3</td>\n",
       "      <td>1</td>\n",
       "      <td>1</td>\n",
       "      <td>5</td>\n",
       "    </tr>\n",
       "    <tr>\n",
       "      <th>12350.0</th>\n",
       "      <td>0.0</td>\n",
       "      <td>0.0</td>\n",
       "      <td>0.000000</td>\n",
       "      <td>3</td>\n",
       "      <td>1</td>\n",
       "      <td>1</td>\n",
       "      <td>5</td>\n",
       "    </tr>\n",
       "  </tbody>\n",
       "</table>\n",
       "</div>"
      ],
      "text/plain": [
       "             frequency  recency  monetary_value  r_score  f_score  m_score  \\\n",
       "Customer ID                                                                  \n",
       "12346.0            0.0      0.0        0.000000        3        1        1   \n",
       "12347.0            6.0    365.0      599.701667        1        3        3   \n",
       "12348.0            3.0    283.0      301.480000        1        2        2   \n",
       "12349.0            0.0      0.0        0.000000        3        1        1   \n",
       "12350.0            0.0      0.0        0.000000        3        1        1   \n",
       "\n",
       "             rfm_score  \n",
       "Customer ID             \n",
       "12346.0              5  \n",
       "12347.0              7  \n",
       "12348.0              5  \n",
       "12349.0              5  \n",
       "12350.0              5  "
      ]
     },
     "execution_count": 60,
     "metadata": {},
     "output_type": "execute_result"
    }
   ],
   "source": [
    "rfm_datas['rfm_score'] = rfm_datas[['r_score', 'f_score', 'm_score']].sum(axis=1)\n",
    "rfm_datas.head()"
   ]
  },
  {
   "cell_type": "code",
   "execution_count": 63,
   "id": "31c05865",
   "metadata": {
    "ExecuteTime": {
     "end_time": "2022-11-05T07:07:34.072835Z",
     "start_time": "2022-11-05T07:07:34.061303Z"
    }
   },
   "outputs": [
    {
     "data": {
      "text/plain": [
       "array([5, 7, 6, 8])"
      ]
     },
     "execution_count": 63,
     "metadata": {},
     "output_type": "execute_result"
    }
   ],
   "source": [
    "rfm_datas['rfm_score'].unique()"
   ]
  },
  {
   "cell_type": "code",
   "execution_count": 64,
   "id": "09cd7194",
   "metadata": {
    "ExecuteTime": {
     "end_time": "2022-11-05T07:13:41.903956Z",
     "start_time": "2022-11-05T07:13:41.887674Z"
    }
   },
   "outputs": [
    {
     "data": {
      "text/plain": [
       "At Risk Customers      1634\n",
       "New Customers          1624\n",
       "Potential Loyalists    1008\n",
       "Champions               105\n",
       "Name: rfm_group, dtype: int64"
      ]
     },
     "execution_count": 64,
     "metadata": {},
     "output_type": "execute_result"
    }
   ],
   "source": [
    "rfm_datas['rfm_group'] = np.where(rfm_datas['rfm_score']==8,'Champions',\n",
    "                         np.where(rfm_datas['rfm_score']==7,'Potential Loyalists',\n",
    "                         np.where(rfm_datas['rfm_score']==6,'New Customers','At Risk Customers')))\n",
    "\n",
    "rfm_datas['rfm_group'].value_counts()"
   ]
  },
  {
   "cell_type": "markdown",
   "id": "5ee9892f",
   "metadata": {},
   "source": [
    "## Plot"
   ]
  },
  {
   "cell_type": "code",
   "execution_count": 98,
   "id": "9c3e1ee9",
   "metadata": {
    "ExecuteTime": {
     "end_time": "2022-11-05T07:34:12.285061Z",
     "start_time": "2022-11-05T07:34:12.253798Z"
    }
   },
   "outputs": [
    {
     "data": {
      "text/html": [
       "<div>\n",
       "<style scoped>\n",
       "    .dataframe tbody tr th:only-of-type {\n",
       "        vertical-align: middle;\n",
       "    }\n",
       "\n",
       "    .dataframe tbody tr th {\n",
       "        vertical-align: top;\n",
       "    }\n",
       "\n",
       "    .dataframe thead tr th {\n",
       "        text-align: left;\n",
       "    }\n",
       "\n",
       "    .dataframe thead tr:last-of-type th {\n",
       "        text-align: right;\n",
       "    }\n",
       "</style>\n",
       "<table border=\"1\" class=\"dataframe\">\n",
       "  <thead>\n",
       "    <tr>\n",
       "      <th></th>\n",
       "      <th>recency</th>\n",
       "      <th>frequency</th>\n",
       "      <th colspan=\"2\" halign=\"left\">monetary_value</th>\n",
       "    </tr>\n",
       "    <tr>\n",
       "      <th></th>\n",
       "      <th>mean</th>\n",
       "      <th>mean</th>\n",
       "      <th>mean</th>\n",
       "      <th>count</th>\n",
       "    </tr>\n",
       "    <tr>\n",
       "      <th>rfm_group</th>\n",
       "      <th></th>\n",
       "      <th></th>\n",
       "      <th></th>\n",
       "      <th></th>\n",
       "    </tr>\n",
       "  </thead>\n",
       "  <tbody>\n",
       "    <tr>\n",
       "      <th>At Risk Customers</th>\n",
       "      <td>46.9</td>\n",
       "      <td>0.4</td>\n",
       "      <td>28.0</td>\n",
       "      <td>1634</td>\n",
       "    </tr>\n",
       "    <tr>\n",
       "      <th>Champions</th>\n",
       "      <td>185.8</td>\n",
       "      <td>7.0</td>\n",
       "      <td>531.7</td>\n",
       "      <td>105</td>\n",
       "    </tr>\n",
       "    <tr>\n",
       "      <th>New Customers</th>\n",
       "      <td>172.7</td>\n",
       "      <td>4.1</td>\n",
       "      <td>193.4</td>\n",
       "      <td>1624</td>\n",
       "    </tr>\n",
       "    <tr>\n",
       "      <th>Potential Loyalists</th>\n",
       "      <td>205.9</td>\n",
       "      <td>6.8</td>\n",
       "      <td>536.0</td>\n",
       "      <td>1008</td>\n",
       "    </tr>\n",
       "  </tbody>\n",
       "</table>\n",
       "</div>"
      ],
      "text/plain": [
       "                    recency frequency monetary_value      \n",
       "                       mean      mean           mean count\n",
       "rfm_group                                                 \n",
       "At Risk Customers      46.9       0.4           28.0  1634\n",
       "Champions             185.8       7.0          531.7   105\n",
       "New Customers         172.7       4.1          193.4  1624\n",
       "Potential Loyalists   205.9       6.8          536.0  1008"
      ]
     },
     "execution_count": 98,
     "metadata": {},
     "output_type": "execute_result"
    }
   ],
   "source": [
    "# Calculate average values for each RFM_Level, and return a size of each segment \n",
    "rfm_datas_agg = rfm_datas.groupby('rfm_group').agg({\n",
    "    'recency': 'mean',\n",
    "    'frequency': 'mean',\n",
    "    'monetary_value': ['mean', 'count']\n",
    "}).round(1)\n",
    "# Print the aggregated dataset\n",
    "rfm_datas_agg.head()"
   ]
  },
  {
   "cell_type": "code",
   "execution_count": 96,
   "id": "ac1a5761",
   "metadata": {
    "ExecuteTime": {
     "end_time": "2022-11-05T07:32:51.097235Z",
     "start_time": "2022-11-05T07:32:51.078718Z"
    }
   },
   "outputs": [
    {
     "data": {
      "text/html": [
       "<div>\n",
       "<style scoped>\n",
       "    .dataframe tbody tr th:only-of-type {\n",
       "        vertical-align: middle;\n",
       "    }\n",
       "\n",
       "    .dataframe tbody tr th {\n",
       "        vertical-align: top;\n",
       "    }\n",
       "\n",
       "    .dataframe thead th {\n",
       "        text-align: right;\n",
       "    }\n",
       "</style>\n",
       "<table border=\"1\" class=\"dataframe\">\n",
       "  <thead>\n",
       "    <tr style=\"text-align: right;\">\n",
       "      <th></th>\n",
       "      <th>rfm_group</th>\n",
       "      <th>RecencyMean</th>\n",
       "      <th>FrequencyMean</th>\n",
       "      <th>MonetaryMean</th>\n",
       "      <th>Count</th>\n",
       "      <th>pctg</th>\n",
       "    </tr>\n",
       "  </thead>\n",
       "  <tbody>\n",
       "    <tr>\n",
       "      <th>0</th>\n",
       "      <td>At Risk Customers</td>\n",
       "      <td>46.9</td>\n",
       "      <td>0.4</td>\n",
       "      <td>28.0</td>\n",
       "      <td>1634</td>\n",
       "      <td>37.382750</td>\n",
       "    </tr>\n",
       "    <tr>\n",
       "      <th>1</th>\n",
       "      <td>Champions</td>\n",
       "      <td>185.8</td>\n",
       "      <td>7.0</td>\n",
       "      <td>531.7</td>\n",
       "      <td>105</td>\n",
       "      <td>2.402196</td>\n",
       "    </tr>\n",
       "    <tr>\n",
       "      <th>2</th>\n",
       "      <td>New Customers</td>\n",
       "      <td>172.7</td>\n",
       "      <td>4.1</td>\n",
       "      <td>193.4</td>\n",
       "      <td>1624</td>\n",
       "      <td>37.153969</td>\n",
       "    </tr>\n",
       "    <tr>\n",
       "      <th>3</th>\n",
       "      <td>Potential Loyalists</td>\n",
       "      <td>205.9</td>\n",
       "      <td>6.8</td>\n",
       "      <td>536.0</td>\n",
       "      <td>1008</td>\n",
       "      <td>23.061084</td>\n",
       "    </tr>\n",
       "  </tbody>\n",
       "</table>\n",
       "</div>"
      ],
      "text/plain": [
       "             rfm_group  RecencyMean  FrequencyMean  MonetaryMean  Count  \\\n",
       "0    At Risk Customers         46.9            0.4          28.0   1634   \n",
       "1            Champions        185.8            7.0         531.7    105   \n",
       "2        New Customers        172.7            4.1         193.4   1624   \n",
       "3  Potential Loyalists        205.9            6.8         536.0   1008   \n",
       "\n",
       "        pctg  \n",
       "0  37.382750  \n",
       "1   2.402196  \n",
       "2  37.153969  \n",
       "3  23.061084  "
      ]
     },
     "execution_count": 96,
     "metadata": {},
     "output_type": "execute_result"
    }
   ],
   "source": [
    "rfm_datas_agg = rfm_datas_agg.reset_index()\n",
    "rfm_datas_agg['pctg'] = rfm_datas_agg['Count']/rfm_datas_agg['Count'].sum()*100\n",
    "rfm_datas_agg"
   ]
  },
  {
   "cell_type": "code",
   "execution_count": 69,
   "id": "377edd17",
   "metadata": {
    "ExecuteTime": {
     "end_time": "2022-11-05T07:20:33.637712Z",
     "start_time": "2022-11-05T07:20:33.627476Z"
    }
   },
   "outputs": [],
   "source": [
    "import squarify"
   ]
  },
  {
   "cell_type": "code",
   "execution_count": 100,
   "id": "cf4a0f5d",
   "metadata": {
    "ExecuteTime": {
     "end_time": "2022-11-05T08:59:44.453472Z",
     "start_time": "2022-11-05T08:59:44.260506Z"
    }
   },
   "outputs": [
    {
     "data": {
      "image/png": "[encoded data removed]",
      "text/plain": [
       "<Figure size 1600x900 with 1 Axes>"
      ]
     },
     "metadata": {},
     "output_type": "display_data"
    }
   ],
   "source": [
    "rfm_datas_agg.columns = ['RecencyMean','FrequencyMean','MonetaryMean', 'Count']\n",
    "#Create our plot and resize it.\n",
    "fig = plt.gcf()\n",
    "ax = fig.add_subplot()\n",
    "fig.set_size_inches(16, 9)\n",
    "squarify.plot(sizes=rfm_datas_agg['Count'], \n",
    "              label=['At Risk Customers (37.3%)',\n",
    "                     'Champions (2.4%)',\n",
    "                     'At Risk Customers (37.1%)',\n",
    "                     'Potential Loyalists (23%)'], alpha=.6 )\n",
    "\n",
    "plt.title(\"RFM Segments\",fontsize=18,fontweight=\"bold\")\n",
    "plt.axis('off')\n",
    "plt.show()"
   ]
  },
  {
   "cell_type": "markdown",
   "id": "74bac41d",
   "metadata": {},
   "source": [
    "- Champions are our best customers, who bought most recently, most often, and are heavy spenders. Reward these customers. They can become early adopters for new products and will help promote our brand.\n",
    "- Potential Loyalists are our recent customers with average frequency and who spent a good amount. Offer membership or loyalty programs or recommend related products to upsell them and help them become our Loyalists or Champions.\n",
    "At Risk Customers are our customers who purchased often and spent big amounts, but haven’t purchased recently. Send them personalized reactivation campaigns to reconnect, and offer renewals and helpful products to encourage another purchase."
   ]
  }
 ],
 "metadata": {
  "kernelspec": {
   "display_name": "Python 3 (ipykernel)",
   "language": "python",
   "name": "python3"
  },
  "language_info": {
   "codemirror_mode": {
    "name": "ipython",
    "version": 3
   },
   "file_extension": ".py",
   "mimetype": "text/x-python",
   "name": "python",
   "nbconvert_exporter": "python",
   "pygments_lexer": "ipython3",
   "version": "3.9.7"
  },
  "toc": {
   "base_numbering": 1,
   "nav_menu": {},
   "number_sections": true,
   "sideBar": true,
   "skip_h1_title": false,
   "title_cell": "Table of Contents",
   "title_sidebar": "Contents",
   "toc_cell": false,
   "toc_position": {},
   "toc_section_display": true,
   "toc_window_display": false
  }
 },
 "nbformat": 4,
 "nbformat_minor": 5
}
